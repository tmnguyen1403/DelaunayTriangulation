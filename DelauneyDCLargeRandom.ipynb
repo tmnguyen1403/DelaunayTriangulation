{
 "cells": [
  {
   "cell_type": "code",
   "execution_count": 1,
   "metadata": {},
   "outputs": [],
   "source": [
    "from DelauneyDC import DelaunayDC\n",
    "from QuadEdge import QuadEdge,EdgeType\n",
    "from Site import Site\n",
    "from DebugUtils import *\n",
    "import os"
   ]
  },
  {
   "cell_type": "code",
   "execution_count": 3,
   "metadata": {},
   "outputs": [
    {
     "name": "stdout",
     "output_type": "stream",
     "text": [
      "Current iteration: 0\n",
      "preparing data\n",
      "finish preparing data - length: 100000\n",
      "Current iteration: 1\n",
      "preparing data\n",
      "finish preparing data - length: 100000\n"
     ]
    }
   ],
   "source": [
    "# Test with\n",
    "input_folder = \"Input\"\n",
    "max_iter = 2\n",
    "value_limit = 10000\n",
    "for counter in range(max_iter):\n",
    "    print(f\"Current iteration: {counter}\")\n",
    "    QuadEdge.name_id = 0\n",
    "    num_sites = 100000\n",
    "    input_file = os.path.join(input_folder,f\"{num_sites}_{value_limit}_{counter}.csv\")\n",
    "    S = Site.generate_random_sites(num_sites,-value_limit,value_limit)\n",
    "    save_sites(S,input_file)\n",
    "    delaunay_solver = DelaunayDC()\n",
    "    delaunay_solver.start_solve(S)"
   ]
  },
  {
   "cell_type": "markdown",
   "metadata": {},
   "source": [
    "# [-1000,1000] - runtime - 1m12.5s\n",
    "# [-10000,10000] - runtime - 1m13.4s\n",
    "Value range might not be important\n",
    "\n",
    "\n",
    "\n"
   ]
  }
 ],
 "metadata": {
  "kernelspec": {
   "display_name": "Python 3",
   "language": "python",
   "name": "python3"
  },
  "language_info": {
   "codemirror_mode": {
    "name": "ipython",
    "version": 3
   },
   "file_extension": ".py",
   "mimetype": "text/x-python",
   "name": "python",
   "nbconvert_exporter": "python",
   "pygments_lexer": "ipython3",
   "version": "3.11.5"
  }
 },
 "nbformat": 4,
 "nbformat_minor": 2
}
