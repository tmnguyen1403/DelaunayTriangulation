{
 "cells": [
  {
   "cell_type": "code",
   "execution_count": 49,
   "id": "9af2b3a3",
   "metadata": {},
   "outputs": [],
   "source": [
    "class Site:\n",
    "    def __init__(self,x,y):\n",
    "        self.x = x\n",
    "        self.y = y\n",
    "    \n",
    "    def equal(self,other):\n",
    "        return self.x == other.x and self.y == other.y\n",
    "    \n",
    "    def debug(self):\n",
    "        print(f\"(x,y): ({self.x},{self.y})\")"
   ]
  },
  {
   "cell_type": "code",
   "execution_count": 50,
   "id": "ca60477f",
   "metadata": {},
   "outputs": [],
   "source": [
    "class QuadEdge:\n",
    "    def __init__(self):\n",
    "        self.Org = None\n",
    "        self.Dest = None\n",
    "        self.Sym = None\n",
    "        self.Onext = None\n",
    "        self.Oprev = None\n"
   ]
  },
  {
   "cell_type": "code",
   "execution_count": 56,
   "id": "d69ac0e7",
   "metadata": {},
   "outputs": [],
   "source": [
    "#Helper function\n",
    "def make_edge():\n",
    "    return QuadEdge()\n",
    "\n",
    "def splice(a,b):\n",
    "    return None\n",
    "\n",
    "def prepare_data(S):\n",
    "    if len(S) < 2:\n",
    "        return S\n",
    "    #1. Sort by x\n",
    "    #2. Sort by y\n",
    "    sort_x = sorted(S, key = lambda s: s.x)\n",
    "    sorted_S = sorted(sort_x, key = lambda s: s.y)\n",
    "    #3. Remove duplicate points\n",
    "    i = 0\n",
    "    while i < len(sorted_S)-1:\n",
    "        if sorted_S[i].equal(sorted_S[i+1]):\n",
    "            #delete i+1\n",
    "            sorted_S.pop(i+1)\n",
    "        else:\n",
    "            i = i +1\n",
    "    return sorted_S\n",
    "\n",
    "def ccw(s1,s2,s3):\n",
    "    return True\n",
    "\n",
    "def connect(a,b):\n",
    "    return None\n",
    "\n",
    "def left_of(a,b):\n",
    "    return None\n",
    "\n",
    "def right_of(a,b):\n",
    "    return None"
   ]
  },
  {
   "cell_type": "code",
   "execution_count": 62,
   "id": "d4034769",
   "metadata": {
    "scrolled": true
   },
   "outputs": [
    {
     "name": "stdout",
     "output_type": "stream",
     "text": [
      "Test with 1 site\n",
      "Test with 2 site\n",
      "Test with 3 site\n",
      "Test with 3 different sites\n",
      "Test with 4 different sites, 1 duplicate\n",
      "Test with 6 different sites, 1 duplicate\n"
     ]
    }
   ],
   "source": [
    "# Test prepare_data\n",
    "def test_prepare_data(S,expect_S,func,msg=\"\"):\n",
    "    print(f\"{msg}\")\n",
    "    result_S = func(S)\n",
    "    #print(f\"result_S: {result_S}\")\n",
    "    assert(len(expect_S) == len(result_S))\n",
    "    for i,result in enumerate(result_S):\n",
    "        assert(result.equal(expect_S[i]))\n",
    "#Test case\n",
    "#1.\n",
    "S = [Site(0,0)]\n",
    "expect_S = [Site(0,0)]\n",
    "test_prepare_data(S,expect_S,prepare_data,\"Test with 1 site\")\n",
    "#2.\n",
    "S = [Site(0,0),Site(0,0)]\n",
    "expect_S = [Site(0,0)]\n",
    "test_prepare_data(S,expect_S,prepare_data,\"Test with 2 site\")\n",
    "\n",
    "#3.\n",
    "S = [Site(0,0),Site(0,0),Site(0,0)]\n",
    "expect_S = [Site(0,0)]\n",
    "test_prepare_data(S,expect_S,prepare_data,\"Test with 3 site\")\n",
    "\n",
    "#4.\n",
    "S = [Site(0,0),Site(1,1),Site(2,2)]\n",
    "expect_S = [Site(0,0),Site(1,1),Site(2,2)]\n",
    "test_prepare_data(S,expect_S,prepare_data,\"Test with 3 different sites\")\n",
    "\n",
    "#5.\n",
    "S = [Site(0,0),Site(1,3),Site(1,1),Site(1,1),Site(1,2)]\n",
    "expect_S = [Site(0,0),Site(1,1),Site(1,2),Site(1,3)]\n",
    "test_prepare_data(S,expect_S,prepare_data,\"Test with 4 different sites, 1 duplicate\")\n",
    "\n",
    "#6.\n",
    "S = [Site(0,0),Site(1,3),Site(1,1),Site(1,1),Site(1,2),Site(-2,-6),Site(-2,-7)]\n",
    "expect_S = [Site(-2,-7),Site(-2,-6),Site(0,0),Site(1,1),Site(1,2),Site(1,3)]\n",
    "test_prepare_data(S,expect_S,prepare_data,\"Test with 6 different sites, 1 duplicate\")"
   ]
  },
  {
   "cell_type": "code",
   "execution_count": 35,
   "id": "21e2dd89",
   "metadata": {},
   "outputs": [],
   "source": [
    "#Divide and conquer\n",
    "\n",
    "\n",
    "def delaunay_dc(S):\n",
    "    length_S = len(S)\n",
    "    if length_S == 2:\n",
    "        s1,s2 = S[0],S[1]\n",
    "        a = make_edge()\n",
    "        a.Org = s1\n",
    "        a.dest = s2\n",
    "        return (a,a.Sym)\n",
    "    elif length_S == 3:\n",
    "        s1,s2,s3 = S[0],S[1],S[2]\n",
    "        # Create edges a connecting s1 to s2 \n",
    "        # and b connecting s2 to s3\n",
    "        a = make_edge()\n",
    "        b = make_edge()\n",
    "        splice(a.Sym,b)\n",
    "        a.Org = s1\n",
    "        a.Dest = b.Org = s2\n",
    "        b.Dest = s3\n",
    "        #Close the triangle\n",
    "        if ccw(s1,s2,s3):\n",
    "            c = connect(b,a)\n",
    "            return (a,b.Sym)\n",
    "        elif ccw(s1,s3,s2):\n",
    "            c = connect(b,a)\n",
    "            return (c.Sym,c)\n",
    "        else:\n",
    "            return (a,b.Sym)\n",
    "    elif length_S >= 4:\n",
    "        L,R = S[:length_S//2],S[length_S//2:]\n",
    "        ldo,ldi = delaunay_dc(L)\n",
    "        rdi,rdo = delaunay_dc(R)\n",
    "        #Compute the lower common tangent of L and R\n",
    "        while True:\n",
    "            if left_of(rdi.Org,ldi):\n",
    "                ldi = ldi.Lnext\n",
    "            elif right_of(ldi.Org,rdi):\n",
    "                rdi = rdi.Rprev\n",
    "            else:\n",
    "                print(\"Finish compute the lower common tangent of L and R\")\n",
    "                break\n",
    "        #Create a first cross edge basel from rdi.Org to ldi.Org\n",
    "        basel = connect(rdi.Sym,ldi)\n",
    "        if ldi.Org == ldo.Org:\n",
    "            ldo = basel.Sym\n",
    "        if rdi.Org == rdo.Org:\n",
    "            rdo = basel\n",
    "        #Merge loop\n",
    "        while True:\n",
    "            #Locate the first L point (lcand.Dest) to be encoutered by the rising bubble\n",
    "            #and delete Ledges out of basel.Dest that fail the circle test\n",
    "            lcand = basel.Sym.Onext\n",
    "            if valid(lcand):\n",
    "                while incircle(basel.Dest, basel.Org, lcand.Dest, lcand.Onext.Dest):\n",
    "                    t = lcand.Onext\n",
    "                    delete_edge(lcand)\n",
    "                    lcand = t\n",
    "            #End if\n",
    "            #Symmetrically locate the first R point to be hit, and delete R edges\n",
    "            rcand = basel.Oprev\n",
    "            if valid(rcand):\n",
    "                while incircle(basel.Dest, basel.Org, rcand.Dest, rcand.Oprev.Dest):\n",
    "                    t = rcand.Oprev\n",
    "                    delete_edge(rcand)\n",
    "                    rcand = t\n",
    "            #End if\n",
    "            #If both lcand and rcand are invalid, then basel is the upper common tangent\n",
    "            if not valid(lcand) and not valid(rcand):\n",
    "                print(\"Both lcand and rcand are invalid\")\n",
    "                break\n",
    "            #if both are valid, then choose the approriate one using the incircle test\n",
    "            if not valid(lcand) or (valid(rcand) and incircle(lcand.Dest, lcand.Org, rcand.Org, rcand.Dest)):\n",
    "                #add cross edge basel from rcand.Dest to basel.Dest\n",
    "                basel = connect(rcand, basel.Sym)\n",
    "            else:\n",
    "                #add cross edge basel from basel.Org to lcand.Dest\n",
    "                basel = connect(basel.Sym, lcand.Sym)\n",
    "            #end if\n",
    "        #End loop\n",
    "        return (ldo, rdo)\n",
    "    #End delaunay_dc \n"
   ]
  },
  {
   "cell_type": "code",
   "execution_count": 36,
   "id": "5c05e6c4",
   "metadata": {},
   "outputs": [
    {
     "data": {
      "text/plain": [
       "(<__main__.QuadEdge at 0x7fd110cdd0a0>, None)"
      ]
     },
     "execution_count": 36,
     "metadata": {},
     "output_type": "execute_result"
    }
   ],
   "source": [
    "# Test with 2\n",
    "S = [Site(0,0),Site(1,1)]\n",
    "delaunay_dc(S)"
   ]
  },
  {
   "cell_type": "code",
   "execution_count": 37,
   "id": "73728717",
   "metadata": {},
   "outputs": [
    {
     "data": {
      "text/plain": [
       "(<__main__.QuadEdge at 0x7fd1109942e0>, None)"
      ]
     },
     "execution_count": 37,
     "metadata": {},
     "output_type": "execute_result"
    }
   ],
   "source": [
    "# Test with 3\n",
    "S = [Site(0,0),Site(1,1),Site(1,0)]\n",
    "delaunay_dc(S)"
   ]
  },
  {
   "cell_type": "code",
   "execution_count": 38,
   "id": "acacca52",
   "metadata": {},
   "outputs": [
    {
     "ename": "AttributeError",
     "evalue": "'NoneType' object has no attribute 'Org'",
     "output_type": "error",
     "traceback": [
      "\u001b[0;31m---------------------------------------------------------------------------\u001b[0m",
      "\u001b[0;31mAttributeError\u001b[0m                            Traceback (most recent call last)",
      "\u001b[0;32m<ipython-input-38-57adf096c2e0>\u001b[0m in \u001b[0;36m<module>\u001b[0;34m\u001b[0m\n\u001b[1;32m      1\u001b[0m \u001b[0;31m# Test with 4\u001b[0m\u001b[0;34m\u001b[0m\u001b[0;34m\u001b[0m\u001b[0;34m\u001b[0m\u001b[0m\n\u001b[1;32m      2\u001b[0m \u001b[0mS\u001b[0m \u001b[0;34m=\u001b[0m \u001b[0;34m[\u001b[0m\u001b[0mSite\u001b[0m\u001b[0;34m(\u001b[0m\u001b[0;36m0\u001b[0m\u001b[0;34m,\u001b[0m\u001b[0;36m0\u001b[0m\u001b[0;34m)\u001b[0m\u001b[0;34m,\u001b[0m\u001b[0mSite\u001b[0m\u001b[0;34m(\u001b[0m\u001b[0;36m1\u001b[0m\u001b[0;34m,\u001b[0m\u001b[0;36m1\u001b[0m\u001b[0;34m)\u001b[0m\u001b[0;34m,\u001b[0m\u001b[0mSite\u001b[0m\u001b[0;34m(\u001b[0m\u001b[0;36m1\u001b[0m\u001b[0;34m,\u001b[0m\u001b[0;36m0\u001b[0m\u001b[0;34m)\u001b[0m\u001b[0;34m,\u001b[0m\u001b[0mSite\u001b[0m\u001b[0;34m(\u001b[0m\u001b[0;36m0\u001b[0m\u001b[0;34m,\u001b[0m\u001b[0;36m4\u001b[0m\u001b[0;34m)\u001b[0m\u001b[0;34m]\u001b[0m\u001b[0;34m\u001b[0m\u001b[0;34m\u001b[0m\u001b[0m\n\u001b[0;32m----> 3\u001b[0;31m \u001b[0mdelaunay_dc\u001b[0m\u001b[0;34m(\u001b[0m\u001b[0mS\u001b[0m\u001b[0;34m)\u001b[0m\u001b[0;34m\u001b[0m\u001b[0;34m\u001b[0m\u001b[0m\n\u001b[0m",
      "\u001b[0;32m<ipython-input-35-6484a2e0faed>\u001b[0m in \u001b[0;36mdelaunay_dc\u001b[0;34m(S)\u001b[0m\n\u001b[1;32m     37\u001b[0m             \u001b[0;32mif\u001b[0m \u001b[0mleft_of\u001b[0m\u001b[0;34m(\u001b[0m\u001b[0mrdi\u001b[0m\u001b[0;34m.\u001b[0m\u001b[0mOrg\u001b[0m\u001b[0;34m,\u001b[0m\u001b[0mldi\u001b[0m\u001b[0;34m)\u001b[0m\u001b[0;34m:\u001b[0m\u001b[0;34m\u001b[0m\u001b[0;34m\u001b[0m\u001b[0m\n\u001b[1;32m     38\u001b[0m                 \u001b[0mldi\u001b[0m \u001b[0;34m=\u001b[0m \u001b[0mldi\u001b[0m\u001b[0;34m.\u001b[0m\u001b[0mLnext\u001b[0m\u001b[0;34m\u001b[0m\u001b[0;34m\u001b[0m\u001b[0m\n\u001b[0;32m---> 39\u001b[0;31m             \u001b[0;32melif\u001b[0m \u001b[0mright_of\u001b[0m\u001b[0;34m(\u001b[0m\u001b[0mldi\u001b[0m\u001b[0;34m.\u001b[0m\u001b[0mOrg\u001b[0m\u001b[0;34m,\u001b[0m\u001b[0mrdi\u001b[0m\u001b[0;34m)\u001b[0m\u001b[0;34m:\u001b[0m\u001b[0;34m\u001b[0m\u001b[0;34m\u001b[0m\u001b[0m\n\u001b[0m\u001b[1;32m     40\u001b[0m                 \u001b[0mrdi\u001b[0m \u001b[0;34m=\u001b[0m \u001b[0mrdi\u001b[0m\u001b[0;34m.\u001b[0m\u001b[0mRprev\u001b[0m\u001b[0;34m\u001b[0m\u001b[0;34m\u001b[0m\u001b[0m\n\u001b[1;32m     41\u001b[0m             \u001b[0;32melse\u001b[0m\u001b[0;34m:\u001b[0m\u001b[0;34m\u001b[0m\u001b[0;34m\u001b[0m\u001b[0m\n",
      "\u001b[0;31mAttributeError\u001b[0m: 'NoneType' object has no attribute 'Org'"
     ]
    }
   ],
   "source": [
    "# Test with 4\n",
    "S = [Site(0,0),Site(1,1),Site(1,0),Site(0,4)]\n",
    "delaunay_dc(S)"
   ]
  },
  {
   "cell_type": "code",
   "execution_count": 25,
   "id": "a56847a6",
   "metadata": {},
   "outputs": [
    {
     "data": {
      "text/plain": [
       "[<__main__.Site at 0x7fd110c9ddf0>, <__main__.Site at 0x7fd110c9de50>]"
      ]
     },
     "execution_count": 25,
     "metadata": {},
     "output_type": "execute_result"
    }
   ],
   "source": [
    "S[:len(S)//2]"
   ]
  },
  {
   "cell_type": "code",
   "execution_count": null,
   "id": "d63aa71d",
   "metadata": {},
   "outputs": [],
   "source": []
  }
 ],
 "metadata": {
  "kernelspec": {
   "display_name": "Python 3",
   "language": "python",
   "name": "python3"
  },
  "language_info": {
   "codemirror_mode": {
    "name": "ipython",
    "version": 3
   },
   "file_extension": ".py",
   "mimetype": "text/x-python",
   "name": "python",
   "nbconvert_exporter": "python",
   "pygments_lexer": "ipython3",
   "version": "3.8.8"
  }
 },
 "nbformat": 4,
 "nbformat_minor": 5
}
