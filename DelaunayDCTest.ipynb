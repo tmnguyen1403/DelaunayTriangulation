{
 "cells": [
  {
   "cell_type": "code",
   "execution_count": null,
   "metadata": {},
   "outputs": [],
   "source": [
    "from DelauneyDC import DelaunayDC\n",
    "from QuadEdge import QuadEdge\n",
    "from Site import Site\n",
    "from DebugUtils import *"
   ]
  },
  {
   "cell_type": "code",
   "execution_count": null,
   "metadata": {},
   "outputs": [],
   "source": [
    "# Test with 5\n",
    "QuadEdge.name_id = 0\n",
    "S = [Site(0,0),Site(1,1),Site(1,0),Site(0,1), Site(2,4)]\n",
    "delaunay_solver = DelaunayDC()\n",
    "delaunay_solver.start_solve(S)"
   ]
  },
  {
   "cell_type": "code",
   "execution_count": null,
   "metadata": {},
   "outputs": [],
   "source": [
    "edge_store = delaunay_solver.edge_store\n",
    "annotate_data = generate_anotation(S)\n",
    "draw_edges(edge_store=edge_store,annotate_data=annotate_data)"
   ]
  },
  {
   "cell_type": "code",
   "execution_count": null,
   "metadata": {},
   "outputs": [],
   "source": [
    "# Test with 10\n",
    "QuadEdge.name_id = 0\n",
    "S = Site.generate_random_sites(2000,-1000,1000)\n",
    "#S = [Site(0,0),Site(1,1),Site(1,0),Site(0,1), Site(2,4)]\n",
    "delaunay_solver = DelaunayDC()\n",
    "delaunay_solver.start_solve(S)"
   ]
  },
  {
   "cell_type": "code",
   "execution_count": null,
   "metadata": {},
   "outputs": [],
   "source": [
    "\n",
    "edge_store = delaunay_solver.edge_store\n",
    "#annotate_data = generate_anotation(S)\n",
    "active_edge = edge_store #[edge for edge in edge_store if edge.active]\n",
    "\n",
    "#active_edge = [edge for edge in edge_store if edge.active]\n",
    "#draw_edges(edge_store=active_edge,annotate_data=annotate_data,x_limit=[-1000,1000],y_limit=[-1000,1000])"
   ]
  }
 ],
 "metadata": {
  "kernelspec": {
   "display_name": "Python 3",
   "language": "python",
   "name": "python3"
  },
  "language_info": {
   "codemirror_mode": {
    "name": "ipython",
    "version": 3
   },
   "file_extension": ".py",
   "mimetype": "text/x-python",
   "name": "python",
   "nbconvert_exporter": "python",
   "pygments_lexer": "ipython3",
   "version": "3.11.5"
  }
 },
 "nbformat": 4,
 "nbformat_minor": 2
}
